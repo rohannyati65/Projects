{
 "cells": [
  {
   "cell_type": "code",
   "execution_count": 1,
   "metadata": {},
   "outputs": [],
   "source": [
    "import turtle\n",
    "t=turtle.Turtle()\n",
    "s=turtle.Screen()\n",
    "s.bgcolor(\"black\")\n",
    "t.speed(0)\n",
    "\n",
    "col=[\"yellow\",\"red\",\"pink\",\"cyan\",\"green\",\"blue\"]\n",
    "\n",
    "for i in range(120):\n",
    "    t.pencolor(col[i%6])\n",
    "    t.circle(190-i/2,90)\n",
    "    t.lt(90)\n",
    "    t.circle(190-i/3,90)\n",
    "    t.lt(60)\n",
    "\n",
    "s.exitonclick()"
   ]
  },
  {
   "cell_type": "code",
   "execution_count": null,
   "metadata": {},
   "outputs": [],
   "source": []
  }
 ],
 "metadata": {
  "kernelspec": {
   "display_name": "Python 3",
   "language": "python",
   "name": "python3"
  },
  "language_info": {
   "codemirror_mode": {
    "name": "ipython",
    "version": 3
   },
   "file_extension": ".py",
   "mimetype": "text/x-python",
   "name": "python",
   "nbconvert_exporter": "python",
   "pygments_lexer": "ipython3",
   "version": "3.7.3"
  }
 },
 "nbformat": 4,
 "nbformat_minor": 2
}
